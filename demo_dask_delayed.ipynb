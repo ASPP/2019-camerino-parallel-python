{
 "cells": [
  {
   "cell_type": "markdown",
   "metadata": {},
   "source": [
    "# Demo of task graphs with map and dask.delayed\n",
    "\n",
    "A live coding demo for embarrassingly parallel workflows using `map` and `dask.delayed`.\n",
    "\n",
    "## 1. Create a function and inputs to be used with map\n",
    "\n",
    "The `map` function is built into Python, and it is used to single-input function onto a list of inputs. So let'smake a single-input function and our desired list of inputs."
   ]
  },
  {
   "cell_type": "code",
   "execution_count": 1,
   "metadata": {},
   "outputs": [
    {
     "data": {
      "text/plain": [
       "range(0, 4)"
      ]
     },
     "execution_count": 1,
     "metadata": {},
     "output_type": "execute_result"
    }
   ],
   "source": [
    "def inc(x):\n",
    "    return x +1\n",
    "inputs = range(4)\n",
    "inputs"
   ]
  },
  {
   "cell_type": "markdown",
   "metadata": {},
   "source": [
    "## 2. Normal map syntax\n",
    "\n",
    "Let's first look at how map works normally."
   ]
  },
  {
   "cell_type": "code",
   "execution_count": 3,
   "metadata": {},
   "outputs": [
    {
     "data": {
      "text/plain": [
       "[1, 2, 3, 4]"
      ]
     },
     "execution_count": 3,
     "metadata": {},
     "output_type": "execute_result"
    }
   ],
   "source": [
    "list(map(inc, inputs))"
   ]
  },
  {
   "cell_type": "markdown",
   "metadata": {},
   "source": [
    "## 3. Create delayed function\n",
    "\n",
    "Let's create a delayed version of our function. This is \"lazy\" because it doesn't actually compute anything, it just sets up data dependencies."
   ]
  },
  {
   "cell_type": "code",
   "execution_count": 4,
   "metadata": {},
   "outputs": [
    {
     "data": {
      "text/plain": [
       "Delayed('inc-d1285c7a-ee4b-44ff-9340-1f47d23f50bf')"
      ]
     },
     "execution_count": 4,
     "metadata": {},
     "output_type": "execute_result"
    }
   ],
   "source": [
    "from dask import delayed\n",
    "\n",
    "del_inc = delayed(inc)\n",
    "\n",
    "del_inc"
   ]
  },
  {
   "cell_type": "markdown",
   "metadata": {},
   "source": [
    "## 4. Assemble delayed workflow with map\n",
    "\n",
    "Instead of mapping our original function (which executes right away), now let's use map on our lazy function."
   ]
  },
  {
   "cell_type": "code",
   "execution_count": 5,
   "metadata": {},
   "outputs": [
    {
     "data": {
      "text/plain": [
       "[Delayed('inc-ca08847a-f553-44cf-9635-5087e32fcc8a'),\n",
       " Delayed('inc-6ae9a5e4-0ba7-41e0-aa70-6374fbd98865'),\n",
       " Delayed('inc-8ac5041a-8a88-43e6-a8a7-7216eb5eeb98'),\n",
       " Delayed('inc-334efac0-ea14-4472-8869-8b453eb496a3')]"
      ]
     },
     "execution_count": 5,
     "metadata": {},
     "output_type": "execute_result"
    }
   ],
   "source": [
    "z = list(map(del_inc, inputs))\n",
    "z"
   ]
  },
  {
   "cell_type": "markdown",
   "metadata": {},
   "source": [
    "## 5. Visualize our workflow\n",
    "\n",
    "Dask has a very useful command to show the task graph. It is a method of dask objects and can be called via `z.visualize()`, or it can be called on non-dask objects via `dask.visualize(z)`."
   ]
  },
  {
   "cell_type": "code",
   "execution_count": 8,
   "metadata": {},
   "outputs": [
    {
     "data": {
      "image/png": "[encoded data removed]",
      "text/plain": [
       "<IPython.core.display.Image object>"
      ]
     },
     "execution_count": 8,
     "metadata": {},
     "output_type": "execute_result"
    }
   ],
   "source": [
    "import dask\n",
    "dask.visualize(z, rankdir='LR')"
   ]
  },
  {
   "cell_type": "markdown",
   "metadata": {},
   "source": [
    "## 6. Run our computation\n",
    "\n",
    "Once we're happy that the task graph looks good, we can run the computation. This can be done using the method of dask objects, `z.compute()` or through the dask function `dask.compute(z)`.\n",
    "\n",
    "Dask uses a scheduler to determine the order of the computations and to pass the necessary data between different computations. We discuss different schedulers next. :)"
   ]
  },
  {
   "cell_type": "code",
   "execution_count": 9,
   "metadata": {},
   "outputs": [
    {
     "data": {
      "text/plain": [
       "([1, 2, 3, 4],)"
      ]
     },
     "execution_count": 9,
     "metadata": {},
     "output_type": "execute_result"
    }
   ],
   "source": [
    "dask.compute(z)"
   ]
  },
  {
   "cell_type": "code",
   "execution_count": null,
   "metadata": {},
   "outputs": [],
   "source": []
  }
 ],
 "metadata": {
  "kernelspec": {
   "display_name": "Python 3",
   "language": "python",
   "name": "python3"
  },
  "language_info": {
   "codemirror_mode": {
    "name": "ipython",
    "version": 3
   },
   "file_extension": ".py",
   "mimetype": "text/x-python",
   "name": "python",
   "nbconvert_exporter": "python",
   "pygments_lexer": "ipython3",
   "version": "3.6.8"
  }
 },
 "nbformat": 4,
 "nbformat_minor": 2
}
